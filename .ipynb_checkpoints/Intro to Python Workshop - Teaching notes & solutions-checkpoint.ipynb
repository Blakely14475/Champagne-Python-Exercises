{
 "cells": [
  {
   "cell_type": "code",
   "execution_count": 42,
   "metadata": {
    "collapsed": true
   },
   "outputs": [],
   "source": [
    "import numpy as np\n",
    "import matplotlib.pyplot as plt"
   ]
  },
  {
   "cell_type": "code",
   "execution_count": 48,
   "metadata": {},
   "outputs": [
    {
     "name": "stdout",
     "output_type": "stream",
     "text": [
      "1.29154966501 10000.0 [  16.68100537   59.94842503  215.443469  ]\n",
      "[  1.00000000e-01   3.59381366e-01   1.29154967e+00   4.64158883e+00\n",
      "   1.66810054e+01   5.99484250e+01   2.15443469e+02   7.74263683e+02\n",
      "   2.78255940e+03   1.00000000e+04   1.00010000e+04   1.00020000e+04]\n"
     ]
    },
    {
     "data": {
      "text/plain": [
       "array([[  5.83790060e+00,   9.73820513e+02,   1.58035073e+04],\n",
       "       [  9.73820513e+02,   1.62443052e+05,   2.63618391e+06],\n",
       "       [  1.58035073e+04,   2.63618391e+06,   7.69506605e+07]])"
      ]
     },
     "execution_count": 48,
     "metadata": {},
     "output_type": "execute_result"
    }
   ],
   "source": [
    "# Exercise 1 solutions\n",
    "\n",
    "log = np.logspace(-1, 4, 10)\n",
    "\n",
    "print(log[2], log[-1], log[4:7])\n",
    "\n",
    "logappend = np.append(log, [10001, 10002])\n",
    "\n",
    "print(logappend)\n",
    "\n",
    "logappend_reduced = logappend / 2.\n",
    "\n",
    "log_arr = logappend_reduced.reshape(3, 4)\n",
    "\n",
    "np.dot(log_arr, log_arr.T)"
   ]
  },
  {
   "cell_type": "code",
   "execution_count": 2,
   "metadata": {},
   "outputs": [
    {
     "name": "stdout",
     "output_type": "stream",
     "text": [
      "What is the best Springsteen album?\n",
      "Born to Run : Alright, that's pretty good.\n",
      "Darkness on the Edge of Town ? I agree!!!\n",
      "The River : Alright, that's pretty good.\n",
      "Tunnel of Love ?! You're joking right???\n",
      "The Rising ?! You're joking right???\n",
      "Devils & Dust ?! You're joking right???\n"
     ]
    }
   ],
   "source": [
    "# Exercise 2 solutions\n",
    "\n",
    "springsteen = ['Born to Run', 'Darkness on the Edge of Town', 'The River', 'Tunnel of Love', 'The Rising', 'Devils & Dust']\n",
    "\n",
    "print(\"What is the best Springsteen album?\")\n",
    "for albums in springsteen:\n",
    "    if albums == 'Darkness on the Edge of Town':\n",
    "        print(albums,\"? I agree!!!\")\n",
    "    elif albums == 'The River' or albums == 'Born to Run':\n",
    "        print(albums,\": Alright, that's pretty good.\")\n",
    "    else:\n",
    "        print(albums,\"?! You're joking right???\")"
   ]
  },
  {
   "cell_type": "code",
   "execution_count": 51,
   "metadata": {},
   "outputs": [
    {
     "name": "stdout",
     "output_type": "stream",
     "text": [
      "[4.0, 0.5, 6.0, 5.0, 7.0]\n"
     ]
    }
   ],
   "source": [
    "# Exercise 3 solutions\n",
    "\n",
    "array = np.array([ 4,  0.5,  6,  5, 11, 14, 12, 14,  7, 16])\n",
    "\n",
    "emptylist = []\n",
    "\n",
    "for i in range(0, len(array)):\n",
    "    if array[i]**2 < 100.:\n",
    "        emptylist.append(array[i])\n",
    "\n",
    "print(emptylist)"
   ]
  },
  {
   "cell_type": "code",
   "execution_count": 56,
   "metadata": {},
   "outputs": [
    {
     "name": "stdout",
     "output_type": "stream",
     "text": [
      "[[4.0, 16.0], [0.5, 0.25], [6.0, 36.0], [5.0, 25.0], [7.0, 49.0]]\n",
      "10\n"
     ]
    }
   ],
   "source": [
    "emptylist2 = []\n",
    "\n",
    "for i in range(0, len(array)):\n",
    "    if array[i]**2 < 100.:\n",
    "        emptylist2.append([array[i], array[i]**2])\n",
    "        \n",
    "print(emptylist2)\n",
    "#print(emptylist2.size)\n",
    "emptylist2_asarray = np.asarray(emptylist2)\n",
    "print(emptylist2_asarray.size)"
   ]
  },
  {
   "cell_type": "code",
   "execution_count": 57,
   "metadata": {},
   "outputs": [
    {
     "name": "stdout",
     "output_type": "stream",
     "text": [
      "[[  4.    16.  ]\n",
      " [  0.5    0.25]\n",
      " [  6.    36.  ]\n",
      " [  5.    25.  ]\n",
      " [  0.     0.  ]\n",
      " [  0.     0.  ]\n",
      " [  0.     0.  ]\n",
      " [  0.     0.  ]\n",
      " [  7.    49.  ]\n",
      " [  0.     0.  ]]\n"
     ]
    }
   ],
   "source": [
    "emptyarray = np.zeros((10, 2))\n",
    "\n",
    "for i in range(0, len(array)):\n",
    "    if array[i]**2 < 100.:\n",
    "        emptyarray[i] = ([array[i], array[i]**2])\n",
    "\n",
    "print(emptyarray)\n"
   ]
  },
  {
   "cell_type": "code",
   "execution_count": 58,
   "metadata": {},
   "outputs": [
    {
     "data": {
      "image/png": "[encoded data removed]",
      "text/plain": [
       "<matplotlib.figure.Figure at 0x10f808dd8>"
      ]
     },
     "metadata": {},
     "output_type": "display_data"
    }
   ],
   "source": [
    "# Exercise 4 solutions\n",
    "\n",
    "def gauss(mu, sig, x):\n",
    "    const = (sig**2 * np.sqrt(2*np.pi))\n",
    "    exp = np.exp(-(x-mu)**2/(2*sig**2))\n",
    "    return const*exp\n",
    "\n",
    "xarr = np.linspace(-5, 5, 1000)\n",
    "\n",
    "gaussian = gauss(0, 1, xarr)\n",
    "\n",
    "import matplotlib.pyplot as plt\n",
    "plt.plot(xarr, gaussian)\n",
    "plt.show()"
   ]
  },
  {
   "cell_type": "code",
   "execution_count": 59,
   "metadata": {},
   "outputs": [
    {
     "data": {
      "image/png": "[encoded data removed]",
      "text/plain": [
       "<matplotlib.figure.Figure at 0x1105362b0>"
      ]
     },
     "metadata": {},
     "output_type": "display_data"
    }
   ],
   "source": [
    "# Exercise 5 solutions\n",
    "\n",
    "g1 = gauss(0, 1, xarr)\n",
    "g2 = gauss(0.5, 1, xarr)\n",
    "g3 = gauss(0, 0.5, xarr)\n",
    "\n",
    "plt.plot(xarr, g1, 'g--', label='$\\mu=0, \\sigma=1$')\n",
    "plt.plot(xarr, g2, 'k-', label='$\\mu=0.5, \\sigma=1$')\n",
    "plt.plot(xarr, g3, 'm-.', label='$\\mu=0, \\sigma=0.5$')\n",
    "plt.xlabel('x')\n",
    "plt.ylabel('f(x)')\n",
    "plt.title('Gauss')\n",
    "plt.legend()\n",
    "plt.show()"
   ]
  },
  {
   "cell_type": "code",
   "execution_count": null,
   "metadata": {
    "collapsed": true
   },
   "outputs": [],
   "source": []
  }
 ],
 "metadata": {
  "kernelspec": {
   "display_name": "Python 3",
   "language": "python",
   "name": "python3"
  },
  "language_info": {
   "codemirror_mode": {
    "name": "ipython",
    "version": 3
   },
   "file_extension": ".py",
   "mimetype": "text/x-python",
   "name": "python",
   "nbconvert_exporter": "python",
   "pygments_lexer": "ipython3",
   "version": "3.5.3"
  }
 },
 "nbformat": 4,
 "nbformat_minor": 2
}
