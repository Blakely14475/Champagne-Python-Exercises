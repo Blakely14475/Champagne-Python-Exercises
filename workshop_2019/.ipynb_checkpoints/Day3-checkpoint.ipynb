{
 "cells": [
  {
   "cell_type": "markdown",
   "metadata": {},
   "source": [
    "# TAURUS + REU 2019\n",
    "# Introduction to Python Day 3\n",
    "# Statistics, Interpolation & Fitting Data\n",
    "\n",
    "Welcome back again! So far we have covered basic syntax, arrays, if statements, for loops, functions, and plotting. Now we can start building some data analysis skills using statistics. \n",
    "\n",
    "Python has lots of built in functions for generating random data. Today let's start with generating random values from a Gaussian distribution. "
   ]
  },
  {
   "cell_type": "code",
   "execution_count": 21,
   "metadata": {},
   "outputs": [],
   "source": [
    "import numpy as np\n",
    "import matplotlib.pyplot as plt"
   ]
  },
  {
   "cell_type": "code",
   "execution_count": 22,
   "metadata": {},
   "outputs": [],
   "source": [
    "gaussian = np.random.normal(0, 2, 1000) \n",
    "#Gaussian centered on 0 with a std. dev. of 2, sampled 1000 times"
   ]
  },
  {
   "cell_type": "markdown",
   "metadata": {},
   "source": [
    "## Histograms \n",
    "\n",
    "A plot you'll probably make quite often is a histogram. For this, use plt.hist().\n",
    "\n",
    "    plt.hist(data, bins, normed=True/False)\n",
    "    \n",
    "The \"bins\" argument can either be an array, or simply setting \"bins=x\" for a number of evenly spaced bins. \"Normed\" will normalize your data to 1."
   ]
  },
  {
   "cell_type": "code",
   "execution_count": 23,
   "metadata": {},
   "outputs": [
    {
     "data": {
      "image/png": "[encoded data removed]",
      "text/plain": [
       "<matplotlib.figure.Figure at 0x1a2365de80>"
      ]
     },
     "metadata": {},
     "output_type": "display_data"
    }
   ],
   "source": [
    "plt.hist(gaussian, bins=20, normed=True)\n",
    "plt.grid(True)\n",
    "plt.show()"
   ]
  },
  {
   "cell_type": "markdown",
   "metadata": {},
   "source": [
    "Just like with normal plotting, there are lots of customizable options for histograms, including:\n",
    "\n",
    "    facecolor: string argument giving color of histogram\n",
    "    alpha: opacity, ranging from 0 to 1\n",
    "    hatch: a histogram filling style, such as '\\\\', '//', '.', '..', etc\n",
    "    histtype: bar, step\n",
    "    normed: True/False\n",
    "    cumulative: True/False\n",
    "    \n",
    "## Gaussian Fitting\n",
    "\n",
    "Let's try fitting the Gaussian. This is a little bit redundant since we already know it's a Gaussian distribution, but this example should illustrate how the fitting process works. Let's use a package from scipy:"
   ]
  },
  {
   "cell_type": "code",
   "execution_count": 24,
   "metadata": {},
   "outputs": [],
   "source": [
    "from scipy.stats import norm"
   ]
  },
  {
   "cell_type": "markdown",
   "metadata": {},
   "source": [
    "Quick tip: if you're ever unsure about how to use a function, type ? after the function name to call up the docstrings.\n",
    "\n",
    "To fit a Gaussian, simply use norm.fit(data). This will return the mean and standard deviation of the fit. \n",
    "\n",
    "Pro-tip: np.average() and np.std() will give the mean and standard deviation of the actual data."
   ]
  },
  {
   "cell_type": "code",
   "execution_count": 25,
   "metadata": {},
   "outputs": [
    {
     "name": "stdout",
     "output_type": "stream",
     "text": [
      "0.04640250842080154 1.9228297719883296\n"
     ]
    }
   ],
   "source": [
    "mu, sigma = norm.fit(gaussian)\n",
    "print(mu, sigma)"
   ]
  },
  {
   "cell_type": "markdown",
   "metadata": {},
   "source": [
    "This did pretty well. It performs better the larger the sample you give it. \n",
    "\n",
    "Next, to overplot the Gaussian fit, you can calculate the probability density function (PDF)."
   ]
  },
  {
   "cell_type": "code",
   "execution_count": 26,
   "metadata": {},
   "outputs": [
    {
     "data": {
      "image/png": "[encoded data removed]",
      "text/plain": [
       "<matplotlib.figure.Figure at 0x1a2365d4e0>"
      ]
     },
     "metadata": {},
     "output_type": "display_data"
    }
   ],
   "source": [
    "x = np.linspace(-5, 5, 1000)\n",
    "pdf = norm.pdf(x, mu, sigma)\n",
    "\n",
    "plt.plot(x, pdf, 'k-', linewidth=2)\n",
    "plt.hist(gaussian, bins=50, color='mediumpurple', alpha=0.4, normed=True, fill=True, histtype='step')\n",
    "plt.title(\"Fit results: $\\mu$ = %.2f, $\\sigma$ = %.2f\" % (mu, sigma)) \n",
    "#Pro-tipe: this prints out the values of mu and sigma to 2\n",
    "#decimal places.\n",
    "\n",
    "plt.show()"
   ]
  },
  {
   "cell_type": "markdown",
   "metadata": {},
   "source": [
    "### Question 1: Sample the Poisson distribution centered on 4"
   ]
  },
  {
   "cell_type": "code",
   "execution_count": 50,
   "metadata": {},
   "outputs": [
    {
     "name": "stdout",
     "output_type": "stream",
     "text": [
      "[1 4 5 4 0 6 3 3 2 3 5 9 3 2 1 5 4 3 6 5 5 0 2 3 4 2 4 4 4 3 4 3 0 4 1 7 3\n",
      " 5 7 1 3 3 4 5 1 2 4 7 5 1 4 5 4 4 2 2 3 3 4 5 5 3 9 8 4 3 3 4 1 7 3 4 4 4\n",
      " 5 4 8 2 7 5 5 1 8 8 6 3 3 3 3 9 1 4 6 6 6 7 2 2 0 3]\n"
     ]
    },
    {
     "data": {
      "image/png": "[encoded data removed]",
      "text/plain": [
       "<matplotlib.figure.Figure at 0x1a242dad68>"
      ]
     },
     "metadata": {},
     "output_type": "display_data"
    }
   ],
   "source": [
    "your_array = np.random.poisson(4, 100)\n",
    "plt.hist(your_array)\n",
    "print(your_array)"
   ]
  },
  {
   "cell_type": "code",
   "execution_count": null,
   "metadata": {},
   "outputs": [],
   "source": []
  },
  {
   "cell_type": "markdown",
   "metadata": {},
   "source": [
    "### Now is a good time to do Exercise 1 in Day 3 of your exercise notebook.\n",
    "\n",
    "## Interpolating Data\n",
    "\n",
    "You may encounter a situation in your research where you will need to interpolate a model to interpret your data. The scipy library has many different interpolating (and extrapolating) algorithms, but the simplest is a 1D interpolation, called interp1d. \n",
    "\n",
    "Let's first generate a well-behaved function that will be easy to interpolate along."
   ]
  },
  {
   "cell_type": "code",
   "execution_count": null,
   "metadata": {},
   "outputs": [],
   "source": [
    "xarray = np.linspace(-4*np.pi, 4*np.pi, 30)\n",
    "yarray = np.sin(xarray)\n",
    "\n",
    "plt.plot(xarray, yarray, 'o')\n",
    "plt.show()"
   ]
  },
  {
   "cell_type": "markdown",
   "metadata": {},
   "source": [
    "What do you notice about this plot? Well, at first glance it doesn't really look like a sine curve because it is poorly sampled. Of course, since we already know it's a sine curve, we could just sample the function better, but say you didn't have such a nice function. Interp1d comes to the rescue! "
   ]
  },
  {
   "cell_type": "code",
   "execution_count": null,
   "metadata": {},
   "outputs": [],
   "source": [
    "from scipy.interpolate import interp1d"
   ]
  },
  {
   "cell_type": "markdown",
   "metadata": {},
   "source": [
    "There are a few steps to interpolation. First, the interp1d function interpolates your original y array. Then, you need to define the new array along which to interpolate, which must completely fit inside the original array (or else it's extrapolation). We'll take the same array but grid it more finely. Finally, you create a new y array using the interpolated function."
   ]
  },
  {
   "cell_type": "code",
   "execution_count": null,
   "metadata": {},
   "outputs": [],
   "source": [
    "interp = interp1d(xarray, yarray)\n",
    "xnew = np.linspace(-4*np.pi, 4*np.pi, 1000)\n",
    "ynew = interp(xnew)\n",
    "\n",
    "plt.plot(xnew, ynew, '--')\n",
    "plt.plot(xarray, yarray, 'or')\n",
    "plt.show()"
   ]
  },
  {
   "cell_type": "markdown",
   "metadata": {},
   "source": [
    "Now it looks much closer to a sine curve!\n",
    "\n",
    "### Now is a good time to do Exercise 2.\n",
    "\n",
    "\n"
   ]
  },
  {
   "cell_type": "markdown",
   "metadata": {},
   "source": [
    "## Quick aside: loading files into Python\n",
    "\n",
    "Up until now, none of the exercises have required you to load in an outside file to the notebook, but this is definitely something you'll need to learn! You can use np.genfromtxt or np.loadtxt (I happen to like the former). If it's just a 1D array of floats, then simply np.genfromtxt('filename') will suffice. Other arguments include \"dtype\" which allows you to specify that they're strings or integers, and in a moment I'll show you how to transpose a text file.\n",
    "\n",
    "\n",
    "## Fitting a Spectrum\n",
    "\n",
    "Finally we can put what we've learned together to do a real life astronomy example! Here is a sample spectrum which features a prominent spectral emission line. Our job will be to fit the line with a Gaussian model to compute its peak flux and FWHM. \n",
    "\n",
    "First let's load up the spectrum. Python reads by rows, not columns, but if you want separate arrays indicating the columns such as wavelengths, flux, and flux errors, you can transpose it, by doing np.genfromtxt('filename').T. You can define it all in one line, like so:\n",
    "\n",
    "x, y, z = np.genfromtxt('file_with_three_columns.txt').T\n",
    "\n",
    "Try loading up \"test_spectrum.txt\", whose three columns are wavelength, flux, and error."
   ]
  },
  {
   "cell_type": "code",
   "execution_count": null,
   "metadata": {},
   "outputs": [],
   "source": [
    "# load file here"
   ]
  },
  {
   "cell_type": "markdown",
   "metadata": {},
   "source": [
    "Let's plot up what we have so far. This is a great opportunity to show you another useful plotting tool: errorbars! \n",
    "\n",
    "Instead of doing plt.plot, you can do plt.errorbar, which plots both the data and the errorbars. The first two arguments are x and y like in plt.plot, and the next two arguments are xerr and yerr. You can specify the color of the errorbars using \"ecolor\". \n",
    "\n",
    "### Question 1: Try plotting the spectrum with y errors (it doesn't have x errors) with the data in blue and the errorbars in magenta."
   ]
  },
  {
   "cell_type": "code",
   "execution_count": null,
   "metadata": {},
   "outputs": [],
   "source": [
    "# your plot here"
   ]
  },
  {
   "cell_type": "markdown",
   "metadata": {},
   "source": [
    "We're going to use the optimize function from scipy. This allows you to fit pretty much any kind of function you want, but here we know that the emission line has a Gaussian profile. \n",
    "\n",
    "Import the optimize function from scipy as \"opt.\" Using what you learned yesterday, define a Gaussian function which takes as its arguments x, $f_0$, $\\mu$, and $\\sigma$. $f_0$ is a normalizing factor in front of the Normal distribution. When you use optimize, it's important that the first argument is the array you're fitting along, so here that is x. "
   ]
  },
  {
   "cell_type": "code",
   "execution_count": null,
   "metadata": {},
   "outputs": [],
   "source": [
    "# import your function here\n",
    "\n",
    "# define your gaussian here"
   ]
  },
  {
   "cell_type": "markdown",
   "metadata": {},
   "source": [
    "The optimize function finds the best fit parameters as well as the covariance matrix for those parameters. p0 is the initial guess for the fit - this is important because a bad or no first guess will cause a bad fit. So the rest of the fit goes like so:\n",
    "\n",
    "See if you can guess a good p0!"
   ]
  },
  {
   "cell_type": "code",
   "execution_count": null,
   "metadata": {},
   "outputs": [],
   "source": [
    "bfpars, covar = opt.curve_fit(gauss, wave, flux, p0=[2e-18, 10700, 50], sigma=fluxerr)"
   ]
  },
  {
   "cell_type": "markdown",
   "metadata": {},
   "source": [
    "Try printing out the best fit parameters. Does this make sense to you? \n",
    "\n",
    "Similar to interpolating, let's define a higher resolution wavelength grid we can use to overplot the fit. We can also zoom in on the line since the rest of the spectrum is noise:"
   ]
  },
  {
   "cell_type": "code",
   "execution_count": null,
   "metadata": {},
   "outputs": [],
   "source": [
    "x = np.linspace(bfpars[1]-10*bfpars[2], bfpars[1]+10*bfpars[2], 1000) \n",
    "#Center the grid on the wavelength of the line\n",
    "#and go +- 10*sigma from there\n",
    "\n",
    "modelfit = gauss(x, bfpars[0], bfpars[1], bfpars[2]) \n",
    "#This is the Gaussian curve with the best fit parameters\n"
   ]
  },
  {
   "cell_type": "markdown",
   "metadata": {},
   "source": [
    "As your final task, plot the model over the data, making sure you zoom in on the line by choosing a wise range for xlim. Congrats, you've done your first bit of science with Python!"
   ]
  },
  {
   "cell_type": "code",
   "execution_count": null,
   "metadata": {},
   "outputs": [],
   "source": [
    "# solution here"
   ]
  }
 ],
 "metadata": {
  "kernelspec": {
   "display_name": "Python 3",
   "language": "python",
   "name": "python3"
  },
  "language_info": {
   "codemirror_mode": {
    "name": "ipython",
    "version": 3
   },
   "file_extension": ".py",
   "mimetype": "text/x-python",
   "name": "python",
   "nbconvert_exporter": "python",
   "pygments_lexer": "ipython3",
   "version": "3.5.4"
  }
 },
 "nbformat": 4,
 "nbformat_minor": 2
}
